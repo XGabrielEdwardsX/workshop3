{
 "cells": [
  {
   "cell_type": "code",
   "execution_count": 21,
   "id": "946ac409",
   "metadata": {},
   "outputs": [
    {
     "name": "stdout",
     "output_type": "stream",
     "text": [
      "\n",
      "--- Métricas de Evaluación del Modelo ---\n",
      "R²: 0.7795\n",
      "MAE: 0.4056\n",
      "MSE: 0.2682\n",
      "RMSE: 0.5179\n",
      "Varianza Explicada: 0.7810\n"
     ]
    }
   ],
   "source": [
    "import pandas as pd\n",
    "import pymysql\n",
    "from sklearn.metrics import r2_score, mean_squared_error, mean_absolute_error, explained_variance_score\n",
    "import numpy as np\n",
    "import matplotlib.pyplot as plt\n",
    "import os\n",
    "\n",
    "DB_USER = os.getenv('MYSQL_USER')\n",
    "DB_PASSWORD = os.getenv('MYSQL_PASSWORD')\n",
    "DB_NAME = os.getenv('MYSQL_DATABASE')\n",
    "DB_HOST = os.getenv('MYSQL_HOST_NOTEBOOK', 'localhost')\n",
    "DB_PORT = int(os.getenv('MYSQL_PORT_NOTEBOOK', 3308))\n",
    "DB_TABLE_NAME = 'predictions' \n",
    "\n",
    "\n",
    "\n",
    "connection = pymysql.connect(host=DB_HOST,\n",
    "                                 port=DB_PORT,\n",
    "                                 user=DB_USER,\n",
    "                                 password=DB_PASSWORD,\n",
    "                                 database=DB_NAME,\n",
    "                                 cursorclass=pymysql.cursors.DictCursor)\n",
    "    \n",
    "with connection.cursor() as cursor:\n",
    "    sql_query = f\"SELECT real_score, predicted_score FROM {DB_TABLE_NAME};\"\n",
    "    cursor.execute(sql_query)\n",
    "    predictions_data = cursor.fetchall()\n",
    "connection.close()\n",
    "\n",
    "df_predictions = pd.DataFrame(predictions_data)\n",
    "\n",
    "\n",
    "y_true = df_predictions['real_score']\n",
    "y_pred = df_predictions['predicted_score']\n",
    "\n",
    "r2 = r2_score(y_true, y_pred)\n",
    "mae = mean_absolute_error(y_true, y_pred)\n",
    "mse = mean_squared_error(y_true, y_pred)\n",
    "rmse = np.sqrt(mse)\n",
    "explained_variance = explained_variance_score(y_true, y_pred)\n",
    "\n",
    "print(\"\\n--- Métricas de Evaluación del Modelo ---\")\n",
    "print(f\"R²: {r2:.4f}\")\n",
    "print(f\"MAE: {mae:.4f}\")\n",
    "print(f\"MSE: {mse:.4f}\")\n",
    "print(f\"RMSE: {rmse:.4f}\")\n",
    "print(f\"Varianza Explicada: {explained_variance:.4f}\")"
   ]
  },
  {
   "cell_type": "markdown",
   "id": "be244a7e",
   "metadata": {},
   "source": [
    "Al RECALCULAR el R2 de los datos que llegaron desde la base de datos vemos que se reduce aproximadamente un 8% en comparación cuando lo evaluamos desde el mismo notebook de entrenamiento, por lo que el modelo nos da en general 77.95% de R2"
   ]
  }
 ],
 "metadata": {
  "kernelspec": {
   "display_name": "venv",
   "language": "python",
   "name": "python3"
  },
  "language_info": {
   "codemirror_mode": {
    "name": "ipython",
    "version": 3
   },
   "file_extension": ".py",
   "mimetype": "text/x-python",
   "name": "python",
   "nbconvert_exporter": "python",
   "pygments_lexer": "ipython3",
   "version": "3.12.3"
  }
 },
 "nbformat": 4,
 "nbformat_minor": 5
}
